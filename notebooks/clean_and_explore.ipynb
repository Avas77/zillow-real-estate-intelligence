{
 "cells": [
  {
   "cell_type": "code",
   "execution_count": 15,
   "id": "ebf4d41e",
   "metadata": {},
   "outputs": [],
   "source": [
    "import pandas as pd\n",
    "import matplotlib.pyplot as plt\n",
    "import seaborn as sns"
   ]
  },
  {
   "cell_type": "code",
   "execution_count": 4,
   "id": "d273e2a5",
   "metadata": {},
   "outputs": [
    {
     "data": {
      "text/html": [
       "<div>\n",
       "<style scoped>\n",
       "    .dataframe tbody tr th:only-of-type {\n",
       "        vertical-align: middle;\n",
       "    }\n",
       "\n",
       "    .dataframe tbody tr th {\n",
       "        vertical-align: top;\n",
       "    }\n",
       "\n",
       "    .dataframe thead th {\n",
       "        text-align: right;\n",
       "    }\n",
       "</style>\n",
       "<table border=\"1\" class=\"dataframe\">\n",
       "  <thead>\n",
       "    <tr style=\"text-align: right;\">\n",
       "      <th></th>\n",
       "      <th>zpid</th>\n",
       "      <th>price</th>\n",
       "      <th>address</th>\n",
       "      <th>bedrooms</th>\n",
       "      <th>bathrooms</th>\n",
       "      <th>livingArea</th>\n",
       "      <th>latitude</th>\n",
       "      <th>longitude</th>\n",
       "    </tr>\n",
       "  </thead>\n",
       "  <tbody>\n",
       "    <tr>\n",
       "      <th>0</th>\n",
       "      <td>42576380</td>\n",
       "      <td>410000</td>\n",
       "      <td>591 Southview Dr, Johnson City, TN 37601</td>\n",
       "      <td>4</td>\n",
       "      <td>2</td>\n",
       "      <td>2646</td>\n",
       "      <td>36.305230</td>\n",
       "      <td>-82.331154</td>\n",
       "    </tr>\n",
       "    <tr>\n",
       "      <th>1</th>\n",
       "      <td>42557790</td>\n",
       "      <td>289000</td>\n",
       "      <td>210 Green Valley Dr, Johnson City, TN 37601</td>\n",
       "      <td>3</td>\n",
       "      <td>2</td>\n",
       "      <td>1786</td>\n",
       "      <td>36.379210</td>\n",
       "      <td>-82.371230</td>\n",
       "    </tr>\n",
       "    <tr>\n",
       "      <th>2</th>\n",
       "      <td>55767353</td>\n",
       "      <td>435000</td>\n",
       "      <td>1001 Kennesaw Dr, Johnson City, TN 37615</td>\n",
       "      <td>3</td>\n",
       "      <td>3</td>\n",
       "      <td>2258</td>\n",
       "      <td>36.388912</td>\n",
       "      <td>-82.417930</td>\n",
       "    </tr>\n",
       "    <tr>\n",
       "      <th>3</th>\n",
       "      <td>42580172</td>\n",
       "      <td>389000</td>\n",
       "      <td>1718 Concord St, Johnson City, TN 37604</td>\n",
       "      <td>3</td>\n",
       "      <td>3</td>\n",
       "      <td>1675</td>\n",
       "      <td>36.291817</td>\n",
       "      <td>-82.366660</td>\n",
       "    </tr>\n",
       "    <tr>\n",
       "      <th>4</th>\n",
       "      <td>42549177</td>\n",
       "      <td>10000</td>\n",
       "      <td>186 Windsong Dr, Gray, TN 37615</td>\n",
       "      <td>4</td>\n",
       "      <td>3</td>\n",
       "      <td>2374</td>\n",
       "      <td>36.409283</td>\n",
       "      <td>-82.516640</td>\n",
       "    </tr>\n",
       "  </tbody>\n",
       "</table>\n",
       "</div>"
      ],
      "text/plain": [
       "       zpid   price                                      address  bedrooms  \\\n",
       "0  42576380  410000     591 Southview Dr, Johnson City, TN 37601         4   \n",
       "1  42557790  289000  210 Green Valley Dr, Johnson City, TN 37601         3   \n",
       "2  55767353  435000     1001 Kennesaw Dr, Johnson City, TN 37615         3   \n",
       "3  42580172  389000      1718 Concord St, Johnson City, TN 37604         3   \n",
       "4  42549177   10000              186 Windsong Dr, Gray, TN 37615         4   \n",
       "\n",
       "   bathrooms  livingArea   latitude  longitude  \n",
       "0          2        2646  36.305230 -82.331154  \n",
       "1          2        1786  36.379210 -82.371230  \n",
       "2          3        2258  36.388912 -82.417930  \n",
       "3          3        1675  36.291817 -82.366660  \n",
       "4          3        2374  36.409283 -82.516640  "
      ]
     },
     "execution_count": 4,
     "metadata": {},
     "output_type": "execute_result"
    }
   ],
   "source": [
    "df = pd.read_csv('../raw_data/listings.csv')\n",
    "df.head()"
   ]
  },
  {
   "cell_type": "code",
   "execution_count": 8,
   "id": "9b594e91",
   "metadata": {},
   "outputs": [
    {
     "data": {
      "text/plain": [
       "zpid          0\n",
       "price         0\n",
       "address       0\n",
       "bedrooms      0\n",
       "bathrooms     0\n",
       "livingArea    0\n",
       "latitude      0\n",
       "longitude     0\n",
       "dtype: int64"
      ]
     },
     "execution_count": 8,
     "metadata": {},
     "output_type": "execute_result"
    }
   ],
   "source": [
    "df.isnull().sum()"
   ]
  },
  {
   "cell_type": "code",
   "execution_count": 22,
   "id": "76317d51",
   "metadata": {},
   "outputs": [],
   "source": [
    "df[\"price\"] = pd.to_numeric(df[\"price\"], errors=\"coerce\").fillna(0).astype(int)\n",
    "df[\"livingArea\"] = pd.to_numeric(df[\"livingArea\"], errors=\"coerce\")"
   ]
  },
  {
   "cell_type": "code",
   "execution_count": 23,
   "id": "d7e7461f",
   "metadata": {},
   "outputs": [],
   "source": [
    "df = df[df[\"price\"] < 2_000_000]\n",
    "df = df[df[\"livingArea\"] < 6000]"
   ]
  },
  {
   "cell_type": "code",
   "execution_count": 24,
   "id": "0bc57dde",
   "metadata": {},
   "outputs": [
    {
     "data": {
      "text/html": [
       "<div>\n",
       "<style scoped>\n",
       "    .dataframe tbody tr th:only-of-type {\n",
       "        vertical-align: middle;\n",
       "    }\n",
       "\n",
       "    .dataframe tbody tr th {\n",
       "        vertical-align: top;\n",
       "    }\n",
       "\n",
       "    .dataframe thead th {\n",
       "        text-align: right;\n",
       "    }\n",
       "</style>\n",
       "<table border=\"1\" class=\"dataframe\">\n",
       "  <thead>\n",
       "    <tr style=\"text-align: right;\">\n",
       "      <th></th>\n",
       "      <th>price</th>\n",
       "      <th>bedrooms</th>\n",
       "      <th>bathrooms</th>\n",
       "      <th>livingArea</th>\n",
       "      <th>latitude</th>\n",
       "      <th>longitude</th>\n",
       "    </tr>\n",
       "  </thead>\n",
       "  <tbody>\n",
       "    <tr>\n",
       "      <th>count</th>\n",
       "      <td>4.000000e+01</td>\n",
       "      <td>40.000000</td>\n",
       "      <td>40.000000</td>\n",
       "      <td>40.000000</td>\n",
       "      <td>40.000000</td>\n",
       "      <td>40.000000</td>\n",
       "    </tr>\n",
       "    <tr>\n",
       "      <th>mean</th>\n",
       "      <td>3.938472e+05</td>\n",
       "      <td>3.325000</td>\n",
       "      <td>2.600000</td>\n",
       "      <td>2159.100000</td>\n",
       "      <td>36.351009</td>\n",
       "      <td>-82.389164</td>\n",
       "    </tr>\n",
       "    <tr>\n",
       "      <th>std</th>\n",
       "      <td>2.397453e+05</td>\n",
       "      <td>0.828576</td>\n",
       "      <td>0.900142</td>\n",
       "      <td>875.399097</td>\n",
       "      <td>0.050280</td>\n",
       "      <td>0.056842</td>\n",
       "    </tr>\n",
       "    <tr>\n",
       "      <th>min</th>\n",
       "      <td>1.000000e+04</td>\n",
       "      <td>2.000000</td>\n",
       "      <td>1.000000</td>\n",
       "      <td>720.000000</td>\n",
       "      <td>36.247036</td>\n",
       "      <td>-82.516640</td>\n",
       "    </tr>\n",
       "    <tr>\n",
       "      <th>25%</th>\n",
       "      <td>2.850000e+05</td>\n",
       "      <td>3.000000</td>\n",
       "      <td>2.000000</td>\n",
       "      <td>1693.750000</td>\n",
       "      <td>36.313638</td>\n",
       "      <td>-82.417810</td>\n",
       "    </tr>\n",
       "    <tr>\n",
       "      <th>50%</th>\n",
       "      <td>3.549500e+05</td>\n",
       "      <td>3.000000</td>\n",
       "      <td>2.500000</td>\n",
       "      <td>2058.000000</td>\n",
       "      <td>36.344878</td>\n",
       "      <td>-82.381245</td>\n",
       "    </tr>\n",
       "    <tr>\n",
       "      <th>75%</th>\n",
       "      <td>4.540000e+05</td>\n",
       "      <td>4.000000</td>\n",
       "      <td>3.000000</td>\n",
       "      <td>2455.000000</td>\n",
       "      <td>36.394504</td>\n",
       "      <td>-82.361158</td>\n",
       "    </tr>\n",
       "    <tr>\n",
       "      <th>max</th>\n",
       "      <td>1.650000e+06</td>\n",
       "      <td>6.000000</td>\n",
       "      <td>6.000000</td>\n",
       "      <td>5923.000000</td>\n",
       "      <td>36.436240</td>\n",
       "      <td>-82.284220</td>\n",
       "    </tr>\n",
       "  </tbody>\n",
       "</table>\n",
       "</div>"
      ],
      "text/plain": [
       "              price   bedrooms  bathrooms   livingArea   latitude  longitude\n",
       "count  4.000000e+01  40.000000  40.000000    40.000000  40.000000  40.000000\n",
       "mean   3.938472e+05   3.325000   2.600000  2159.100000  36.351009 -82.389164\n",
       "std    2.397453e+05   0.828576   0.900142   875.399097   0.050280   0.056842\n",
       "min    1.000000e+04   2.000000   1.000000   720.000000  36.247036 -82.516640\n",
       "25%    2.850000e+05   3.000000   2.000000  1693.750000  36.313638 -82.417810\n",
       "50%    3.549500e+05   3.000000   2.500000  2058.000000  36.344878 -82.381245\n",
       "75%    4.540000e+05   4.000000   3.000000  2455.000000  36.394504 -82.361158\n",
       "max    1.650000e+06   6.000000   6.000000  5923.000000  36.436240 -82.284220"
      ]
     },
     "execution_count": 24,
     "metadata": {},
     "output_type": "execute_result"
    }
   ],
   "source": [
    "df.drop(columns='zpid').describe()"
   ]
  },
  {
   "cell_type": "code",
   "execution_count": 25,
   "id": "e05a760b",
   "metadata": {},
   "outputs": [
    {
     "data": {
      "image/png": "[encoded data removed]",
      "text/plain": [
       "<Figure size 800x600 with 1 Axes>"
      ]
     },
     "metadata": {},
     "output_type": "display_data"
    }
   ],
   "source": [
    "sns.set(style=\"whitegrid\")\n",
    "\n",
    "plt.figure(figsize=(8, 6))\n",
    "sns.boxplot(x=\"bedrooms\", y=\"price\", data=df)\n",
    "plt.title(\"Price Distribution by Bedroom Count\")\n",
    "plt.savefig(\"../img/price_by_bedrooms.png\")\n",
    "plt.show()"
   ]
  },
  {
   "cell_type": "code",
   "execution_count": 26,
   "id": "38b94f2b",
   "metadata": {},
   "outputs": [
    {
     "data": {
      "image/png": "[encoded data removed]",
      "text/plain": [
       "<Figure size 1000x600 with 1 Axes>"
      ]
     },
     "metadata": {},
     "output_type": "display_data"
    }
   ],
   "source": [
    "plt.figure(figsize=(10, 6))\n",
    "sns.scatterplot(x=\"livingArea\", y=\"price\", data=df)\n",
    "plt.title(\"Living Area vs Price\")\n",
    "plt.xlabel(\"Living Area (sq ft)\")\n",
    "plt.ylabel(\"Price ($)\")\n",
    "plt.tight_layout()\n",
    "plt.savefig(\"../img/livingarea_vs_price_fixed.png\")\n",
    "plt.show()"
   ]
  },
  {
   "cell_type": "code",
   "execution_count": null,
   "id": "3dbd9a7d",
   "metadata": {},
   "outputs": [],
   "source": []
  }
 ],
 "metadata": {
  "kernelspec": {
   "display_name": ".venv",
   "language": "python",
   "name": "python3"
  },
  "language_info": {
   "codemirror_mode": {
    "name": "ipython",
    "version": 3
   },
   "file_extension": ".py",
   "mimetype": "text/x-python",
   "name": "python",
   "nbconvert_exporter": "python",
   "pygments_lexer": "ipython3",
   "version": "3.13.5"
  }
 },
 "nbformat": 4,
 "nbformat_minor": 5
}
